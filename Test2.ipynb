{
 "cells": [
  {
   "cell_type": "code",
   "execution_count": 4,
   "metadata": {},
   "outputs": [
    {
     "name": "stdout",
     "output_type": "stream",
     "text": [
      "                                                                             VarName;\"TimeString\";\"VarValue\";\"Validity\";\"Time_ms\"\n",
      "AI Values_78TT001 - Analog input;\"10-12-2023 23... 23278;1;45270999411                                                  6319.0   \n",
      "AI Values_78TT002 - Analog input;\"10-12-2023 23... 60359;1;45270999411                                                  6319.0   \n",
      "AI Values_10TT002 - Analog input;\"10-12-2023 23... 09534;1;45270999411                                                  6319.0   \n",
      "AI Values_20TTC001 - Analog input;\"10-12-2023 2... 90365;1;45270999411                                                  6319.0   \n",
      "AI Values_20FTC003 - analog input;\"10-12-2023 2... 426506E-02;1;45270999411                                             6319.0   \n",
      "...                                                                                                                        ...   \n",
      "AI Values_20PT004 - Analog input;\"11-12-2023 23... 378472E-03;1;45271999295                                             3241.0   \n",
      "AI Values_78PT002 - Analog input;\"11-12-2023 23... 475694E-02;1;45271999295                                             3241.0   \n",
      "AI Values_78PT001 - Analog input;\"11-12-2023 23... 208333E-03;1;45271999295                                             3241.0   \n",
      "$RT_DIS$;\"11-12-2023 23:59:02\";0;0;45271999327     6505                                                                    NaN   \n",
      "$RT_COUNT$;181442;;;;                              NaN                                                                     NaN   \n",
      "\n",
      "[181442 rows x 1 columns]\n"
     ]
    }
   ],
   "source": [
    "import pandas as pd\n",
    "\n",
    "# Use raw string notation for the file path\n",
    "file_path = r'C:/Users/peter/Desktop/Speciale/P10. 2024. Pilot dashboard (1)/Process data - Data_log0_20231211_225901.csv'\n",
    "\n",
    "# Load the CSV file\n",
    "df = pd.read_csv(file_path)\n",
    "\n",
    "# Display the DataFrame\n",
    "print(df)"
   ]
  }
 ],
 "metadata": {
  "kernelspec": {
   "display_name": "ENV_NAME",
   "language": "python",
   "name": "python3"
  },
  "language_info": {
   "codemirror_mode": {
    "name": "ipython",
    "version": 3
   },
   "file_extension": ".py",
   "mimetype": "text/x-python",
   "name": "python",
   "nbconvert_exporter": "python",
   "pygments_lexer": "ipython3",
   "version": "3.10.13"
  }
 },
 "nbformat": 4,
 "nbformat_minor": 2
}
